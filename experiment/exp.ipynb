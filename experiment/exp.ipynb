{
 "cells": [
  {
   "cell_type": "code",
   "execution_count": 6,
   "metadata": {},
   "outputs": [],
   "source": [
    "from __future__ import print_function\n",
    "import tensorflow.compat.v1 as tf\n",
    "import numpy as np"
   ]
  },
  {
   "cell_type": "code",
   "execution_count": 29,
   "metadata": {},
   "outputs": [
    {
     "name": "stdout",
     "output_type": "stream",
     "text": [
      "Weight:  [[-0.304204762]\n",
      " [0.126793355]\n",
      " [0.730371]\n",
      " [0.229809746]\n",
      " [-0.281701684]]\n"
     ]
    }
   ],
   "source": [
    "g = tf.Graph()\n",
    "with g.as_default():\n",
    "    W = tf.Variable(tf.random_normal([5,1], stddev=0.35), name=\"weight\")\n",
    "    bias = tf.Variable(tf.random_normal([1,1], stddev=1), name=\"bias\")\n",
    "    y = tf.matmul(data_input, W) + bias\n",
    "    print_op = tf.print(\"Weight: \", W)\n",
    "    data_input = np.array([[0.2,0.3,0.4,0.5,0.9],[0.25,-0.1,0.25,0.33,0.12]], np.float32)\n",
    "    init_op = tf.initialize_all_variables()\n",
    "    \n",
    "\n",
    "with tf.Session(graph=g) as sess:\n",
    "    sess.run([init_op])\n",
    "    output = sess.run([y, [print_op, print_op]])\n",
    "    "
   ]
  },
  {
   "cell_type": "code",
   "execution_count": null,
   "metadata": {},
   "outputs": [],
   "source": []
  }
 ],
 "metadata": {
  "kernelspec": {
   "display_name": "Python 2",
   "language": "python",
   "name": "python2"
  },
  "language_info": {
   "codemirror_mode": {
    "name": "ipython",
    "version": 2
   },
   "file_extension": ".py",
   "mimetype": "text/x-python",
   "name": "python",
   "nbconvert_exporter": "python",
   "pygments_lexer": "ipython2",
   "version": "2.7.17"
  }
 },
 "nbformat": 4,
 "nbformat_minor": 2
}
